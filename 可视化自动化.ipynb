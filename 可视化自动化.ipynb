{
  "nbformat": 4,
  "nbformat_minor": 0,
  "metadata": {
    "colab": {
      "name": "可视化自动化",
      "provenance": [],
      "collapsed_sections": [],
      "include_colab_link": true
    },
    "kernelspec": {
      "name": "python3",
      "display_name": "Python 3"
    }
  },
  "cells": [
    {
      "cell_type": "markdown",
      "metadata": {
        "id": "view-in-github",
        "colab_type": "text"
      },
      "source": [
        "<a href=\"https://colab.research.google.com/github/MrJiaTu/-/blob/master/%E5%8F%AF%E8%A7%86%E5%8C%96%E8%87%AA%E5%8A%A8%E5%8C%96.ipynb\" target=\"_parent\"><img src=\"https://colab.research.google.com/assets/colab-badge.svg\" alt=\"Open In Colab\"/></a>"
      ]
    },
    {
      "cell_type": "code",
      "metadata": {
        "id": "R2Tz1uCOKf78",
        "colab_type": "code",
        "colab": {
          "base_uri": "https://localhost:8080/",
          "height": 89
        },
        "outputId": "cd9211a0-4383-4a72-905f-fef511df775f"
      },
      "source": [
        "pip install schedule\n"
      ],
      "execution_count": 1,
      "outputs": [
        {
          "output_type": "stream",
          "text": [
            "Collecting schedule\n",
            "  Downloading https://files.pythonhosted.org/packages/57/22/3a709462eb02412bd1145f6e53604f36bba191e3e4e397bea4a718fec38c/schedule-0.6.0-py2.py3-none-any.whl\n",
            "Installing collected packages: schedule\n",
            "Successfully installed schedule-0.6.0\n"
          ],
          "name": "stdout"
        }
      ]
    },
    {
      "cell_type": "code",
      "metadata": {
        "id": "5IB7lypWLJgA",
        "colab_type": "code",
        "colab": {
          "base_uri": "https://localhost:8080/",
          "height": 145
        },
        "outputId": "eff3e1d6-27d6-4e8c-eb19-1197a14907da"
      },
      "source": [
        "import os\n",
        "from google.colab import drive\n",
        "\n",
        "drive.mount('/content/drive')\n",
        "path = \"/content/drive/My Drive\"\n",
        "os.chdir(path)\n",
        "pathname = os.listdir(path)\n",
        "print(pathname)"
      ],
      "execution_count": 2,
      "outputs": [
        {
          "output_type": "stream",
          "text": [
            "Go to this URL in a browser: https://accounts.google.com/o/oauth2/auth?client_id=947318989803-6bn6qk8qdgf4n4g3pfee6491hc0brc4i.apps.googleusercontent.com&redirect_uri=urn%3aietf%3awg%3aoauth%3a2.0%3aoob&scope=email%20https%3a%2f%2fwww.googleapis.com%2fauth%2fdocs.test%20https%3a%2f%2fwww.googleapis.com%2fauth%2fdrive%20https%3a%2f%2fwww.googleapis.com%2fauth%2fdrive.photos.readonly%20https%3a%2f%2fwww.googleapis.com%2fauth%2fpeopleapi.readonly&response_type=code\n",
            "\n",
            "Enter your authorization code:\n",
            "··········\n",
            "Mounted at /content/drive\n",
            "['2019年 12月南昌服装设计业务能力表.xlsx', 'Explore example（副本）.gsheet', '2019年 12月南昌视觉平面业务能力表.xlsx', 'Colab Notebooks', '无标题电子表格.gsheet', 'My cool spreadsheet.gsheet', '3.jpg', '2019年 12月南昌日语小组业务能力表.xlsx', '韩语.jpg', '服装.jpg', '平面.jpg', '2019年 12月南昌韩语小组业务能力表.xlsx', '2020年 1月南昌服装设计业务能力表.xlsx', '2020年 1月南昌韩语小组业务能力表.xlsx', '2020年 1月南昌视觉平面业务能力表.xlsx', '日语.jpg', '2020年 1月南昌日语小组业务能力表.xlsx']\n"
          ],
          "name": "stdout"
        }
      ]
    },
    {
      "cell_type": "code",
      "metadata": {
        "id": "Jq7NJvasTBN3",
        "colab_type": "code",
        "colab": {
          "base_uri": "https://localhost:8080/",
          "height": 215
        },
        "outputId": "113b2994-4c55-45ee-8f95-0be1ed729e43"
      },
      "source": [
        "##建立字体以免中文乱码\n",
        "\n",
        "!wget -O /usr/share/fonts/truetype/liberation/simhei.ttf \"https://uslogger.com/download/file/SimHei\""
      ],
      "execution_count": 3,
      "outputs": [
        {
          "output_type": "stream",
          "text": [
            "--2020-08-11 14:58:54--  https://uslogger.com/download/file/SimHei\n",
            "Resolving uslogger.com (uslogger.com)... 47.105.83.70\n",
            "Connecting to uslogger.com (uslogger.com)|47.105.83.70|:443... connected.\n",
            "HTTP request sent, awaiting response... 200 OK\n",
            "Length: 9751960 (9.3M) [application/octet-stream]\n",
            "Saving to: ‘/usr/share/fonts/truetype/liberation/simhei.ttf’\n",
            "\n",
            "/usr/share/fonts/tr 100%[===================>]   9.30M   133KB/s    in 73s     \n",
            "\n",
            "2020-08-11 15:00:09 (130 KB/s) - ‘/usr/share/fonts/truetype/liberation/simhei.ttf’ saved [9751960/9751960]\n",
            "\n"
          ],
          "name": "stdout"
        }
      ]
    },
    {
      "cell_type": "code",
      "metadata": {
        "id": "UyU1ptVh6LPv",
        "colab_type": "code",
        "colab": {}
      },
      "source": [
        "import requests\n",
        "import json\n",
        "import smtplib\n",
        "import hashlib\n",
        "\n",
        "import base64\n",
        "\n",
        "class WxTalk():\n",
        "    \"\"\"\n",
        "     微信webhook消息发送\n",
        "    \"\"\"\n",
        "    headers = {\n",
        "        \"Content-Type\": \"application/json\"\n",
        "    }\n",
        "    req_message = {\n",
        "        \"errcode\": 1,\n",
        "        \"errmessage\": \"\"\n",
        "    }\n",
        "    def __init__(self, webhook):\n",
        "        \"\"\"\n",
        "        :param webhook: webhook，只需要URL后面webhook=后面的值\n",
        "        \"\"\"\n",
        "        self.webhook = webhook\n",
        "    def sendmessage(self,user, message):\n",
        "        \"\"\"\n",
        "        :param message: 发送的消息\n",
        "        :return: errcode  1 正常，0失败\n",
        "        \"\"\"\n",
        "        data = {\n",
        "            ##\"msgtype\":\"image\"\n",
        "            \"msgtype\": \"text\",\n",
        "            \"text\": {\n",
        "                \"content\": str(message)\n",
        "            },\n",
        "            \"@\": {\n",
        "                \"atMobiles\": [\n",
        "                    user\n",
        "                ],\n",
        "                \"isAtAll\": True\n",
        "            }\n",
        "        }\n",
        "        post_url = \"https://qyapi.weixin.qq.com/cgi-bin/webhook/send?key={0}\".format(self.webhook)\n",
        "        try:\n",
        "            req = requests.post(post_url, data=json.dumps(data), headers=self.headers,timeout=10)\n",
        "            if req.status_code == 200 and req.json()[\"errcode\"] == 0:\n",
        "                return self.req_message  # 发送成功\n",
        "            else:\n",
        "                self.req_message[\"errcode\"] = 0\n",
        "                self.req_message[\"errmessage\"] = str(req.json())\n",
        "                return self.req_message # 发送失败\n",
        "        except Exception as e:\n",
        "            self.req_message[\"errcode\"] = 0\n",
        "            self.req_message[\"errmessage\"] = \"请求微信企业失败，监测你的网络是否正常\"\n",
        "            return self.req_message  # 请求失败\n",
        "    def sendImage(self, image_path):\n",
        "        '''\n",
        "        :param url:   传入企业微信机器人webhoot\n",
        "        :param image_path:  本地图片路径\n",
        "        :return:\n",
        "        '''\n",
        "        with open(image_path, \"br\") as f:\n",
        "            fcont = f.read()\n",
        "            # 转化图片的base64\n",
        "            ls_f = base64.b64encode(fcont)\n",
        "            # 计算图片的md5\n",
        "            fmd5 = hashlib.md5(fcont)\n",
        "        data = {\"msgtype\": \"image\", \"image\": {\"base64\": ls_f.decode('utf8'), \"md5\": fmd5.hexdigest()}}\n",
        "        ##data_json = json.dumps(data)\n",
        "        ##print('推送的json%s' % data_json)\n",
        "        ##prequte = requests.post(url, data=data_json)\n",
        "        ##return prequte.text\n",
        "        post_url = \"https://qyapi.weixin.qq.com/cgi-bin/webhook/send?key={0}\".format(self.webhook)\n",
        "        try:\n",
        "            req = requests.post(post_url, data=json.dumps(data), headers=self.headers,timeout=10)\n",
        "            if req.status_code == 200 and req.json()[\"errcode\"] == 0:\n",
        "                return self.req_message  # 发送成功\n",
        "            else:\n",
        "                self.req_message[\"errcode\"] = 0\n",
        "                self.req_message[\"errmessage\"] = str(req.json())\n",
        "                return self.req_message # 发送失败\n",
        "        except Exception as e:\n",
        "            self.req_message[\"errcode\"] = 0\n",
        "            self.req_message[\"errmessage\"] = \"请求微信企业失败，监测你的网络是否正常\"\n",
        "            return self.req_message  # 请求失败\n"
      ],
      "execution_count": 4,
      "outputs": []
    },
    {
      "cell_type": "code",
      "metadata": {
        "id": "rcIzTTb9Agd8",
        "colab_type": "code",
        "colab": {
          "base_uri": "https://localhost:8080/",
          "height": 1000
        },
        "outputId": "566246d7-143c-451d-fdcf-5bccd0e5529c"
      },
      "source": [
        "##读取数据做条形图可视化\n",
        "import xlrd as ex\n",
        "import pandas as pd\n",
        "import numpy as np\n",
        "import matplotlib.pyplot as plt  \n",
        "import matplotlib as mpl\n",
        "import time\n",
        "import schedule\n",
        "import threading\n",
        "import queue\n",
        "from datetime import datetime\n",
        "import time\n",
        "def makejapanImg():\n",
        "  zhfont = mpl.font_manager.FontProperties(fname='/usr/share/fonts/truetype/liberation/simhei.ttf')\n",
        "  plt.rcParams['font.sans-serif']=['SimHei'] #用来正常显示中文标签\n",
        "  plt.rcParams['axes.unicode_minus']=False #用来正常显示负号\n",
        "  file = '2020年 1月南昌日语小组业务能力表.xlsx'\n",
        "  x = []\n",
        "  y =  []\n",
        "  wb = ex.open_workbook(filename=file)\n",
        "  sheet = wb.sheet_by_name(\"过程数据播报\") \n",
        "    ##print(sheet.col_values(0)[2:13])\n",
        "  x = list(sheet.col_values(0)[2:13]) \n",
        "    ##print(x)\n",
        "    ##print(sheet.col_values(2)[2:13])\n",
        "  y = list(sheet.col_values(2)[2:13])\n",
        "    ##去除空格值，用0替代\n",
        "  y = [ '0' if i =='' else i for i in y]\n",
        "    ##print(y)\n",
        "  y = list(map(int,y))\n",
        "    ##组合\n",
        "  fig, ax = plt.subplots()\n",
        "    ##数据条图\n",
        "  barh = plt.barh(range(len(x)),y,height=0.5, color='dodgerblue')\n",
        "  plt.yticks(range(len(x)),x,fontproperties=zhfont)\n",
        "      ##plt.grid(alpha=0.3)  # 添加网格\n",
        "  plt.ylabel('',fontproperties=zhfont)\n",
        "  plt.xlabel('好友数',fontproperties=zhfont)\n",
        "  plt.title('南昌日语学院新量好友数',fontproperties=zhfont)\n",
        "  plt.tick_params(labelsize=12)\n",
        "    #删除所有边框\n",
        "  ax.spines['right'].set_visible(False)\n",
        "  ax.spines['top'].set_visible(False)\n",
        "  ax.spines['bottom'].set_visible(False)\n",
        "  ax.spines['left'].set_visible(False)\n",
        "    ##设置数字标签\n",
        "  for y, x in enumerate(y):\n",
        "        plt.text(x, y-0.2, \"%s\" %x,color=\"navy\",weight =\"bold\")\n",
        "      ##保存图片\n",
        "  fig.savefig('日语.jpg',bbox_inches='tight',dpi=320)\n",
        "  plt.show()\n",
        "def makedesignImg():\n",
        "  zhfont = mpl.font_manager.FontProperties(fname='/usr/share/fonts/truetype/liberation/simhei.ttf')\n",
        "  plt.rcParams['font.sans-serif']=['SimHei'] #用来正常显示中文标签\n",
        "  plt.rcParams['axes.unicode_minus']=False #用来正常显示负号\n",
        "  file = '2020年 1月南昌视觉平面业务能力表.xlsx'\n",
        "  x = []\n",
        "  y =  []\n",
        "  wb = ex.open_workbook(filename=file)\n",
        "  sheet = wb.sheet_by_name(\"过程数据播报\") \n",
        "    ##print(sheet.col_values(0)[2:14])\n",
        "  x = list(sheet.col_values(0)[2:14]) \n",
        "    ##print(x)\n",
        "    ##print(sheet.col_values(2)[2:14])\n",
        "  y = list(sheet.col_values(2)[2:14])\n",
        "    ##去除空格值，用0替代\n",
        "  y = [ '0' if i =='' else i for i in y]\n",
        "    ##print(y)\n",
        "  y = list(map(int,y))\n",
        "    ##组合\n",
        "  fig, ax = plt.subplots()\n",
        "    ##数据条图\n",
        "  barh = plt.barh(range(len(x)),y,height=0.5, color='dodgerblue')\n",
        "  plt.yticks(range(len(x)),x,fontproperties=zhfont)\n",
        "      ##plt.grid(alpha=0.3)  # 添加网格\n",
        "  plt.ylabel('',fontproperties=zhfont)\n",
        "  plt.xlabel('好友数',fontproperties=zhfont)\n",
        "  plt.title('南昌平面学院新量好友数',fontproperties=zhfont)\n",
        "  plt.tick_params(labelsize=12)\n",
        "    #删除所有边框\n",
        "  ax.spines['right'].set_visible(False)\n",
        "  ax.spines['top'].set_visible(False)\n",
        "  ax.spines['bottom'].set_visible(False)\n",
        "  ax.spines['left'].set_visible(False)\n",
        "    ##设置数字标签\n",
        "  for y, x in enumerate(y):\n",
        "        plt.text(x, y-0.2, \"%s\" %x,color=\"navy\",weight =\"bold\")\n",
        "      ##保存图片\n",
        "  fig.savefig('平面.jpg',bbox_inches='tight',dpi=320)\n",
        "  plt.show()\n",
        "def makeclothImg():\n",
        "  zhfont = mpl.font_manager.FontProperties(fname='/usr/share/fonts/truetype/liberation/simhei.ttf')\n",
        "  plt.rcParams['font.sans-serif']=['SimHei'] #用来正常显示中文标签\n",
        "  plt.rcParams['axes.unicode_minus']=False #用来正常显示负号\n",
        "  file = '2020年 1月南昌服装设计业务能力表.xlsx'\n",
        "  x = []\n",
        "  y =  []\n",
        "  wb = ex.open_workbook(filename=file)\n",
        "  sheet = wb.sheet_by_name(\"过程数据播报\") \n",
        "    ##print(sheet.col_values(0)[2:5])\n",
        "  x = list(sheet.col_values(0)[2:5]) \n",
        "    ##print(x)\n",
        "    ##print(sheet.col_values(2)[2:5])\n",
        "  y = list(sheet.col_values(2)[2:5])\n",
        "    ##去除空格值，用0替代\n",
        "  y = [ '0' if i =='' else i for i in y]\n",
        "    ##print(y)\n",
        "  y = list(map(int,y))\n",
        "    ##组合\n",
        "  fig, ax = plt.subplots()\n",
        "    ##数据条图\n",
        "  barh = plt.barh(range(len(x)),y,height=0.5, color='dodgerblue')\n",
        "  plt.yticks(range(len(x)),x,fontproperties=zhfont)\n",
        "      ##plt.grid(alpha=0.3)  # 添加网格\n",
        "  plt.ylabel('',fontproperties=zhfont)\n",
        "  plt.xlabel('好友数',fontproperties=zhfont)\n",
        "  plt.title('服装学院新量好友数',fontproperties=zhfont)\n",
        "  plt.tick_params(labelsize=12)\n",
        "    #删除所有边框\n",
        "  ax.spines['right'].set_visible(False)\n",
        "  ax.spines['top'].set_visible(False)\n",
        "  ax.spines['bottom'].set_visible(False)\n",
        "  ax.spines['left'].set_visible(False)\n",
        "    ##设置数字标签\n",
        "  for y, x in enumerate(y):\n",
        "        plt.text(x, y-0.2, \"%s\" %x,color=\"navy\",weight =\"bold\")\n",
        "      ##保存图片\n",
        "  fig.savefig('服装.jpg',bbox_inches='tight',dpi=320)\n",
        "  plt.show()\n",
        "def makeHYImg():\n",
        "  zhfont = mpl.font_manager.FontProperties(fname='/usr/share/fonts/truetype/liberation/simhei.ttf')\n",
        "  plt.rcParams['font.sans-serif']=['SimHei'] #用来正常显示中文标签\n",
        "  plt.rcParams['axes.unicode_minus']=False #用来正常显示负号\n",
        "  file = '2020年 1月南昌韩语小组业务能力表.xlsx'\n",
        "  x = []\n",
        "  y =  []\n",
        "  wb = ex.open_workbook(filename=file)\n",
        "  sheet = wb.sheet_by_name(\"过程数据播报\") \n",
        "    ##print(sheet.col_values(0)[2:5])\n",
        "  x = list(sheet.col_values(0)[2:5]) \n",
        "    ##print(x)\n",
        "    ##print(sheet.col_values(2)[2:5])\n",
        "  y = list(sheet.col_values(2)[2:5])\n",
        "    ##去除空格值，用0替代\n",
        "  y = [ '0' if i =='' else i for i in y]\n",
        "    ##print(y)\n",
        "  y = list(map(int,y))\n",
        "    ##组合\n",
        "  fig, ax = plt.subplots()\n",
        "    ##数据条图\n",
        "  barh = plt.barh(range(len(x)),y,height=0.5, color='dodgerblue')\n",
        "  plt.yticks(range(len(x)),x,fontproperties=zhfont)\n",
        "      ##plt.grid(alpha=0.3)  # 添加网格\n",
        "  plt.ylabel('',fontproperties=zhfont)\n",
        "  plt.xlabel('好友数',fontproperties=zhfont)\n",
        "  plt.title('韩语学院新量好友数',fontproperties=zhfont)\n",
        "  plt.tick_params(labelsize=12)\n",
        "    #删除所有边框\n",
        "\n",
        "  ax.spines['right'].set_visible(False)\n",
        "  ax.spines['top'].set_visible(False)\n",
        "  ax.spines['bottom'].set_visible(False)\n",
        "  ax.spines['left'].set_visible(False)\n",
        "    ##设置数字标签\n",
        "  for y, x in enumerate(y):\n",
        "        plt.text(x, y-0.2, \"%s\" %x,color=\"navy\",weight =\"bold\")\n",
        "      ##保存图片\n",
        "  fig.savefig('韩语.jpg',bbox_inches='tight',dpi=320)\n",
        "  plt.show()\n",
        "  \n",
        "def sendry1():\n",
        " makejapanImg()\n",
        " dtack = WxTalk(\"78ce17e1-c176-419f-bb2e-a91d03c58b97\")\n",
        " ret1 = dtack.sendImage(\"/content/drive/My Drive/日语.jpg\")\n",
        "schedule.every(1).minutes.do(sendry1)\n",
        "while True:\n",
        "    schedule.run_pending()\n",
        "    time.sleep(1)"
      ],
      "execution_count": 5,
      "outputs": [
        {
          "output_type": "stream",
          "text": [
            "findfont: Font family ['sans-serif'] not found. Falling back to DejaVu Sans.\n",
            "findfont: Font family ['sans-serif'] not found. Falling back to DejaVu Sans.\n"
          ],
          "name": "stderr"
        },
        {
          "output_type": "display_data",
          "data": {
            "image/png": "[encoded data removed]",
            "text/plain": [
              "<Figure size 432x288 with 1 Axes>"
            ]
          },
          "metadata": {
            "tags": [],
            "needs_background": "light"
          }
        },
        {
          "output_type": "display_data",
          "data": {
            "image/png": "[encoded data removed]",
            "text/plain": [
              "<Figure size 432x288 with 1 Axes>"
            ]
          },
          "metadata": {
            "tags": [],
            "needs_background": "light"
          }
        },
        {
          "output_type": "display_data",
          "data": {
            "image/png": "[encoded data removed]",
            "text/plain": [
              "<Figure size 432x288 with 1 Axes>"
            ]
          },
          "metadata": {
            "tags": [],
            "needs_background": "light"
          }
        },
        {
          "output_type": "display_data",
          "data": {
            "image/png": "[encoded data removed]",
            "text/plain": [
              "<Figure size 432x288 with 1 Axes>"
            ]
          },
          "metadata": {
            "tags": [],
            "needs_background": "light"
          }
        },
        {
          "output_type": "error",
          "ename": "KeyboardInterrupt",
          "evalue": "ignored",
          "traceback": [
            "\u001b[0;31m---------------------------------------------------------------------------\u001b[0m",
            "\u001b[0;31mKeyboardInterrupt\u001b[0m                         Traceback (most recent call last)",
            "\u001b[0;32m<ipython-input-5-dc0065f35878>\u001b[0m in \u001b[0;36m<module>\u001b[0;34m()\u001b[0m\n\u001b[1;32m    176\u001b[0m \u001b[0;32mwhile\u001b[0m \u001b[0;32mTrue\u001b[0m\u001b[0;34m:\u001b[0m\u001b[0;34m\u001b[0m\u001b[0;34m\u001b[0m\u001b[0m\n\u001b[1;32m    177\u001b[0m     \u001b[0mschedule\u001b[0m\u001b[0;34m.\u001b[0m\u001b[0mrun_pending\u001b[0m\u001b[0;34m(\u001b[0m\u001b[0;34m)\u001b[0m\u001b[0;34m\u001b[0m\u001b[0;34m\u001b[0m\u001b[0m\n\u001b[0;32m--> 178\u001b[0;31m     \u001b[0mtime\u001b[0m\u001b[0;34m.\u001b[0m\u001b[0msleep\u001b[0m\u001b[0;34m(\u001b[0m\u001b[0;36m1\u001b[0m\u001b[0;34m)\u001b[0m\u001b[0;34m\u001b[0m\u001b[0;34m\u001b[0m\u001b[0m\n\u001b[0m",
            "\u001b[0;31mKeyboardInterrupt\u001b[0m: "
          ]
        }
      ]
    },
    {
      "cell_type": "code",
      "metadata": {
        "id": "WXmSqsgNk-Fm",
        "colab_type": "code",
        "colab": {}
      },
      "source": [
        "dtack = WxTalk(\"78ce17e1-c176-419f-bb2e-a91d03c58b97\")\n",
        "ret3 = "
      ],
      "execution_count": null,
      "outputs": []
    },
    {
      "cell_type": "code",
      "metadata": {
        "id": "Rq23RUOHk_1a",
        "colab_type": "code",
        "colab": {}
      },
      "source": [
        "dtack = WxTalk(\"78ce17e1-c176-419f-bb2e-a91d03c58b97\")\n",
        "ret4 = dtack.sendImage(\"/content/drive/My Drive/平面.jpg\")"
      ],
      "execution_count": null,
      "outputs": []
    },
    {
      "cell_type": "code",
      "metadata": {
        "id": "oZs-NwJ9mlBx",
        "colab_type": "code",
        "colab": {}
      },
      "source": [
        ""
      ],
      "execution_count": null,
      "outputs": []
    }
  ]
}